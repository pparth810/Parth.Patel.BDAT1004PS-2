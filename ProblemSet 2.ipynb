{
 "cells": [
  {
   "cell_type": "markdown",
   "id": "6dc9cd0a",
   "metadata": {},
   "source": [
    "## Question 1"
   ]
  },
  {
   "cell_type": "markdown",
   "id": "965890cc",
   "metadata": {},
   "source": [
    "Consider the following Python module:\n",
    "a = 0 \n",
    "\n",
    "def b():\n",
    "\n",
    "global a\n",
    "\n",
    "a = c(a)\n",
    "\n",
    "def c(a):\n",
    "\n",
    "return a + 2\n",
    "\n",
    "After importing the module into the interpreter, you execute:\n",
    "\n",
    " b()\n",
    " \n",
    " b()\n",
    " \n",
    " b()\n",
    " \n",
    " a\n",
    " \n",
    " ?\n",
    " \n",
    "What value is displayed when the last expression (a) is evaluated? Explain your Banswer by indicating what happens in every executed statement."
   ]
  },
  {
   "cell_type": "code",
   "execution_count": 1,
   "id": "8e3e188a",
   "metadata": {},
   "outputs": [],
   "source": [
    "a = 0\n",
    "def b():\n",
    "    global a\n",
    "    a = c(a)\n",
    "    print(a)\n",
    "def c(a):\n",
    "    return a+2"
   ]
  },
  {
   "cell_type": "code",
   "execution_count": 2,
   "id": "6026102f",
   "metadata": {},
   "outputs": [
    {
     "name": "stdout",
     "output_type": "stream",
     "text": [
      "2\n",
      "4\n",
      "6\n"
     ]
    }
   ],
   "source": [
    "b()\n",
    "b()\n",
    "b()"
   ]
  },
  {
   "cell_type": "code",
   "execution_count": 3,
   "id": "efce9b51",
   "metadata": {},
   "outputs": [
    {
     "data": {
      "text/plain": [
       "6"
      ]
     },
     "execution_count": 3,
     "metadata": {},
     "output_type": "execute_result"
    }
   ],
   "source": [
    "a"
   ]
  },
  {
   "cell_type": "markdown",
   "id": "b9d80456",
   "metadata": {},
   "source": [
    "### **Explaination:**\n"
   ]
  },
  {
   "cell_type": "markdown",
   "id": "e3a8f44b",
   "metadata": {},
   "source": [
    "Here in above code, we have called two functions called b() and c(). And we have one variable named 'a' which is initialized with a value of 0.\n",
    "\n",
    "Now b() function called 3 times:\n",
    "\n",
    "First time :\n",
    "\n",
    "When b() function is called, the another function c() inside is also called, passing the global value of \"a\" which is 0 . The calculation will be a=0+2=2 means the value will return from c() back to b(). Subsequently, in b(), the returned value of 2 is assigned to the variable \"a\".\n",
    "\n",
    "Second time:\n",
    "\n",
    "Second time, the updated value of a(which is \"2\") is passed to the function c().Inside c(), the value of a is incremented by 2 and resultinf value will be back to b(). which will be a=2+2=4.\n",
    "\n",
    "Third time:\n",
    "\n",
    "Ultimatly, with the same logic the value of a(which is now \"4\") passed to c().and then the calculated valkue (a=4+2=6) will return to b()\n",
    "\n",
    "Since it was the last call for b(), the final value of \"a\" will be \"6\" .\n",
    "\n"
   ]
  },
  {
   "cell_type": "markdown",
   "id": "01305970",
   "metadata": {},
   "source": [
    "## Question 2\n",
    "\n",
    "Function fileLength(), given to you, takes the name of a file as input and returns \n",
    "the length of the file:\n"
   ]
  },
  {
   "cell_type": "code",
   "execution_count": 4,
   "id": "f4a80204",
   "metadata": {},
   "outputs": [],
   "source": [
    "def fileLength(file_name):\n",
    "    try:\n",
    "        file_info = open(file_name)\n",
    "        details = file_info.read()\n",
    "        file_info.close()\n",
    "        print(len(details))\n",
    "    except: print(f\"File {file_name} not found!\")"
   ]
  },
  {
   "cell_type": "code",
   "execution_count": 62,
   "id": "b3a351ad",
   "metadata": {},
   "outputs": [
    {
     "name": "stdout",
     "output_type": "stream",
     "text": [
      "122\n"
     ]
    }
   ],
   "source": [
    "fileLength(\"Filelength.txt\")"
   ]
  },
  {
   "cell_type": "code",
   "execution_count": 63,
   "id": "352c433c",
   "metadata": {},
   "outputs": [
    {
     "name": "stdout",
     "output_type": "stream",
     "text": [
      "File Filelength1.txt not found!\n"
     ]
    }
   ],
   "source": [
    "fileLength(\"Filelength1.txt\")"
   ]
  },
  {
   "cell_type": "markdown",
   "id": "7872bce3",
   "metadata": {},
   "source": [
    "## Question 3"
   ]
  },
  {
   "cell_type": "code",
   "execution_count": 7,
   "id": "0ae01dea",
   "metadata": {},
   "outputs": [
    {
     "name": "stdout",
     "output_type": "stream",
     "text": [
      "['doll', 'firetruck', 'kitten']\n"
     ]
    }
   ],
   "source": [
    "list1 = []\n",
    "x = 0\n",
    "y = 0\n",
    "class Marsupial():\n",
    "    \n",
    "    def put_in_pouch(self,elements):\n",
    "        list1.append(elements)\n",
    "    \n",
    "    def pouch_contents(self):\n",
    "        print(list1)\n",
    "m= Marsupial()\n",
    "m.put_in_pouch(\"doll\")\n",
    "m.put_in_pouch(\"firetruck\")\n",
    "m.put_in_pouch(\"kitten\")\n",
    "m.pouch_contents()"
   ]
  },
  {
   "cell_type": "code",
   "execution_count": 8,
   "id": "0d7ff972",
   "metadata": {},
   "outputs": [],
   "source": [
    "class Kangaroo(Marsupial):\n",
    "    \n",
    "    def __init__(self,x,y): \n",
    "        Marsupial.__init__(self)\n",
    "    \n",
    "    def jump(self,dx,dy):\n",
    "        global x\n",
    "        global y\n",
    "        x +=dx\n",
    "        y +=dy\n",
    "    def __str__(self):\n",
    "        return(f\"I am a Kangaroo located at coordinates({x},{y})\")\n"
   ]
  },
  {
   "cell_type": "code",
   "execution_count": 9,
   "id": "17c7f7a7",
   "metadata": {},
   "outputs": [
    {
     "name": "stdout",
     "output_type": "stream",
     "text": [
      "I am a Kangaroo located at coordinates(0,0)\n"
     ]
    }
   ],
   "source": [
    "k= Kangaroo(0,0)\n",
    "print(k)"
   ]
  },
  {
   "cell_type": "code",
   "execution_count": 10,
   "id": "86828244",
   "metadata": {},
   "outputs": [
    {
     "name": "stdout",
     "output_type": "stream",
     "text": [
      "['doll', 'firetruck', 'kitten', 'doll', 'firetruck', 'kitten']\n"
     ]
    }
   ],
   "source": [
    "k.put_in_pouch(\"doll\")\n",
    "k.put_in_pouch(\"firetruck\")\n",
    "k.put_in_pouch(\"kitten\")\n",
    "k.pouch_contents()\n"
   ]
  },
  {
   "cell_type": "code",
   "execution_count": 11,
   "id": "ae906db5",
   "metadata": {},
   "outputs": [
    {
     "name": "stdout",
     "output_type": "stream",
     "text": [
      "I am a Kangaroo located at coordinates(3,0)\n"
     ]
    }
   ],
   "source": [
    "k.jump(1,0)\n",
    "k.jump(1,0)\n",
    "k.jump(1,0)\n",
    "print(k)"
   ]
  },
  {
   "cell_type": "markdown",
   "id": "690f0780",
   "metadata": {},
   "source": [
    "## Question 4"
   ]
  },
  {
   "cell_type": "code",
   "execution_count": 12,
   "id": "43d6225b",
   "metadata": {},
   "outputs": [],
   "source": [
    "def collatz(x):\n",
    "    if x <= 0:\n",
    "        print(\"Please give positive number as an input.\") # input should be positive\n",
    "        return\n",
    "\n",
    "    print(x)\n",
    "    if x == 1:\n",
    "        return\n",
    "    elif x % 2 == 0:\n",
    "        collatz(x // 2)\n",
    "    else:\n",
    "        collatz(3 * x + 1)\n"
   ]
  },
  {
   "cell_type": "code",
   "execution_count": 13,
   "id": "9db3e12d",
   "metadata": {},
   "outputs": [
    {
     "name": "stdout",
     "output_type": "stream",
     "text": [
      "1\n"
     ]
    }
   ],
   "source": [
    "collatz(1)"
   ]
  },
  {
   "cell_type": "code",
   "execution_count": 14,
   "id": "3834863e",
   "metadata": {},
   "outputs": [
    {
     "name": "stdout",
     "output_type": "stream",
     "text": [
      "10\n",
      "5\n",
      "16\n",
      "8\n",
      "4\n",
      "2\n",
      "1\n"
     ]
    }
   ],
   "source": [
    "collatz(10)"
   ]
  },
  {
   "cell_type": "markdown",
   "id": "0fe14722",
   "metadata": {},
   "source": [
    "## Question 5"
   ]
  },
  {
   "cell_type": "code",
   "execution_count": 15,
   "id": "41ed6403",
   "metadata": {},
   "outputs": [],
   "source": [
    "def binary(num):\n",
    "    if num == 0: \n",
    "        print(\"0\", end=\"\")\n",
    "    elif num == 1: \n",
    "        print(\"1\", end=\"\")\n",
    "    else: \n",
    "        binary(num // 2) \n",
    "        print(num % 2, end=\"\")"
   ]
  },
  {
   "cell_type": "code",
   "execution_count": 16,
   "id": "77da83b3",
   "metadata": {},
   "outputs": [
    {
     "name": "stdout",
     "output_type": "stream",
     "text": [
      "0"
     ]
    }
   ],
   "source": [
    "binary(0)"
   ]
  },
  {
   "cell_type": "code",
   "execution_count": 17,
   "id": "d1357d89",
   "metadata": {},
   "outputs": [
    {
     "name": "stdout",
     "output_type": "stream",
     "text": [
      "1"
     ]
    }
   ],
   "source": [
    "binary(1)"
   ]
  },
  {
   "cell_type": "code",
   "execution_count": 18,
   "id": "1f4d1af6",
   "metadata": {},
   "outputs": [
    {
     "name": "stdout",
     "output_type": "stream",
     "text": [
      "11"
     ]
    }
   ],
   "source": [
    "binary(3)"
   ]
  },
  {
   "cell_type": "code",
   "execution_count": 19,
   "id": "f92920a7",
   "metadata": {},
   "outputs": [
    {
     "name": "stdout",
     "output_type": "stream",
     "text": [
      "1001"
     ]
    }
   ],
   "source": [
    "binary(9)"
   ]
  },
  {
   "cell_type": "markdown",
   "id": "f7f64a9c",
   "metadata": {},
   "source": [
    "## Question 6"
   ]
  },
  {
   "cell_type": "code",
   "execution_count": 64,
   "id": "7f3e208c",
   "metadata": {},
   "outputs": [],
   "source": [
    "from html.parser import HTMLParser\n",
    "\n",
    "\n",
    "class HeadingParser(HTMLParser):\n",
    "    def __init__(self):\n",
    "        super().__init__()\n",
    "        self.heading_size = 0\n",
    "        self.is_heading = False\n",
    "\n",
    "    def handle_starttag(self, tag, attrs):\n",
    "        if tag == 'h1':\n",
    "            self.heading_size = 1\n",
    "            self.is_heading = True\n",
    "        elif tag == 'h2':\n",
    "            self.heading_size = 2\n",
    "            self.is_heading = True\n",
    "        else:\n",
    "            self.is_heading = False\n",
    "\n",
    "    def handle_data(self, data):\n",
    "        if self.is_heading:\n",
    "            indent = '  ' * (self.heading_size - 1)\n",
    "            heading_data = data.strip()\n",
    "            if heading_data:\n",
    "                print(f\"{indent}{heading_data}\")\n",
    "\n",
    "    def print_headings(self):\n",
    "        pass  # Prints headings\n",
    "\n",
    "\n",
    "fileaddress = 'C:/Users/Parth/Desktop/Parth BDAT/1004- Data Programming/Assignments/Prob_Set2/w3c.html'"
   ]
  },
  {
   "cell_type": "code",
   "execution_count": 65,
   "id": "0d1164a2",
   "metadata": {},
   "outputs": [
    {
     "name": "stdout",
     "output_type": "stream",
     "text": [
      "W3C Mission\n",
      "  Principles\n"
     ]
    }
   ],
   "source": [
    "infile = open(fileaddress, 'r')\n",
    "content = infile.read()\n",
    "infile.close()\n",
    "\n",
    "hp = HeadingParser()\n",
    "hp.feed(content)\n",
    "hp.print_headings()"
   ]
  },
  {
   "cell_type": "markdown",
   "id": "513e0ed5",
   "metadata": {},
   "source": [
    "## Question 7"
   ]
  },
  {
   "cell_type": "code",
   "execution_count": 32,
   "id": "06f0508f",
   "metadata": {},
   "outputs": [],
   "source": [
    "from html.parser import HTMLParser\n",
    "from urllib.request import urlopen\n",
    "from urllib.parse import urljoin\n",
    "class MyHTMLParser(HTMLParser):\n",
    "\n",
    "    def __init__(self):\n",
    "        super().__init__()\n",
    "        self.links = []\n",
    "\n",
    "    def handle_starttag(self, tag, attrs):\n",
    "        if tag == 'a':\n",
    "            href = dict(attrs).get('href')\n",
    "            if href:\n",
    "                self.links.append(href)\n",
    "\n",
    "def webdir(url, depth_limit, indent):\n",
    "    print(\" \" * indent, url)\n",
    "    if depth_limit == 0:\n",
    "        return\n",
    "    try:\n",
    "        response = urlopen(url)\n",
    "        html_content = response.read().decode()\n",
    "    except:\n",
    "        return\n",
    "    parser = MyHTMLParser()\n",
    "    parser.feed(html_content)\n",
    "    links = parser.links\n",
    "    for link in links:\n",
    "        sub_url = urljoin(url, link)\n",
    "        webdir(sub_url, depth_limit - 1, indent + 4)"
   ]
  },
  {
   "cell_type": "code",
   "execution_count": 31,
   "id": "5e15a70d",
   "metadata": {},
   "outputs": [
    {
     "name": "stdout",
     "output_type": "stream",
     "text": [
      " https://reed.cs.depaul.edu/lperkovic/\n",
      "     http://www.cdm.depaul.edu/about/Pages/School-of-Computing.aspx\n",
      "     http://www.cdm.depaul.edu\n",
      "     https://reed.cs.depaul.edu/lperkovic/courses/csc241/\n",
      "     https://reed.cs.depaul.edu/lperkovic/courses/csc242/\n",
      "     https://reed.cs.depaul.edu/lperkovic/papers/papers.html\n"
     ]
    }
   ],
   "source": [
    "webdir(\"https://reed.cs.depaul.edu/lperkovic/\", 2, 0)"
   ]
  },
  {
   "cell_type": "markdown",
   "id": "befe3998",
   "metadata": {},
   "source": [
    "## Question 8\n",
    "\n",
    "a) SELECT * FROM temprature; \n",
    "\n",
    "b) SELECT DISTINT cities from temprature;\n",
    "\n",
    "c) SELECT * from temprature WHERE country = 'India';\n",
    "\n",
    "d) select * from temprature where season = 'Fall';\n",
    "\n",
    "e) select city, country, season from temprature where rainfall BETWEEN 200 AND 400;\n",
    "\n",
    "f) SELECT city, country from temprature where season = 'Fall' AND temprature > 20 ORDER BY temprature;\n",
    "\n",
    "g) select SUM(rainfall) from temprature where country = 'Cairo';\n",
    "\n",
    "h) select season ,SUM(rainfall) from temprature GROUP BY SEASON;\n"
   ]
  },
  {
   "cell_type": "code",
   "execution_count": 68,
   "id": "57f5498d",
   "metadata": {},
   "outputs": [
    {
     "name": "stdout",
     "output_type": "stream",
     "text": [
      "Values Inserted to the 'temp_details' table in the 'season.db' database.\n"
     ]
    }
   ],
   "source": [
    "import sqlite3\n",
    "\n",
    "conn = sqlite3.connect('season.db')\n",
    "curs = conn.cursor()\n",
    "\n",
    "curs.execute( '''\n",
    "DROP TABLE IF EXISTS temp_details; \n",
    "''')\n",
    "\n",
    "# Create the table\n",
    "table = '''\n",
    "CREATE TABLE temp_details (\n",
    "    City VARCHAR,\n",
    "    Country VARCHAR,\n",
    "    Season VARCHAR,\n",
    "    Temperature FLOAT,\n",
    "    Rainfall FLOAT\n",
    ")\n",
    "'''\n",
    "\n",
    "curs.execute(table)\n",
    "\n",
    "# Insert the data into the table\n",
    "insert_query = '''\n",
    "INSERT INTO temp_details (City, Country, Season, Temperature, Rainfall)\n",
    "VALUES (?, ?, ?, ?, ?)\n",
    "'''\n",
    "\n",
    "data = {\n",
    "    'City': ['Mumbai', 'Mumbai', 'Mumbai', 'Mumbai', 'London', 'London', 'London', 'London', 'Cairo', 'Cairo', 'Cairo', 'Cairo'],\n",
    "    'Country': ['India', 'India', 'India', 'India', 'United Kingdom', 'United Kingdom', 'United Kingdom', 'United Kingdom', 'Egypt', 'Egypt', 'Egypt', 'Egypt'],\n",
    "    'Season': ['Winter', 'Spring', 'Summer', 'Fall', 'Winter', 'Spring', 'Summer', 'Fall', 'Winter', 'Spring', 'Summer', 'Fall'],\n",
    "    'Temperature': [24.8, 28.4, 27.9, 27.6, 4.2, 8.3, 15.7, 10.4, 13.6, 20.7, 27.7, 22.2],\n",
    "    'Rainfall': [5.9, 16.2, 1549.4, 346.0, 207.7, 169.6, 157.0, 218.5, 16.5, 6.5, 0.1, 4.5]\n",
    "}\n",
    "\n",
    "\n",
    "\n",
    "for i in range(len(data['City'])):\n",
    "    city = data['City'][i]\n",
    "    country = data['Country'][i]\n",
    "    season = data['Season'][i]\n",
    "    temperature = data['Temperature'][i]\n",
    "    rainfall = data['Rainfall'][i]\n",
    "    curs.execute(insert_query, (city, country, season, temperature, rainfall))\n",
    "\n",
    "# Commit the changes and close the connection\n",
    "conn.commit()\n",
    "\n",
    "\n",
    "print(\"Values Inserted to the 'temp_details' table in the 'season.db' database.\")\n"
   ]
  },
  {
   "cell_type": "code",
   "execution_count": 67,
   "id": "3c775148",
   "metadata": {},
   "outputs": [
    {
     "name": "stdout",
     "output_type": "stream",
     "text": [
      "a) All the temperature data.\n",
      "('Mumbai', 'India', 'Winter', 24.8, 5.9)\n",
      "('Mumbai', 'India', 'Spring', 28.4, 16.2)\n",
      "('Mumbai', 'India', 'Summer', 27.9, 1549.4)\n",
      "('Mumbai', 'India', 'Fall', 27.6, 346.0)\n",
      "('London', 'United Kingdom', 'Winter', 4.2, 207.7)\n",
      "('London', 'United Kingdom', 'Spring', 8.3, 169.6)\n",
      "('London', 'United Kingdom', 'Summer', 15.7, 157.0)\n",
      "('London', 'United Kingdom', 'Fall', 10.4, 218.5)\n",
      "('Cairo', 'Egypt', 'Winter', 13.6, 16.5)\n",
      "('Cairo', 'Egypt', 'Spring', 20.7, 6.5)\n",
      "('Cairo', 'Egypt', 'Summer', 27.7, 0.1)\n",
      "('Cairo', 'Egypt', 'Fall', 22.2, 4.5)\n",
      "\n",
      "b) All the cities, but without repetition.\n",
      "Mumbai\n",
      "London\n",
      "Cairo\n",
      "\n",
      "c) All the records for India.\n",
      "('Mumbai', 'India', 'Winter', 24.8, 5.9)\n",
      "('Mumbai', 'India', 'Spring', 28.4, 16.2)\n",
      "('Mumbai', 'India', 'Summer', 27.9, 1549.4)\n",
      "('Mumbai', 'India', 'Fall', 27.6, 346.0)\n",
      "\n",
      "d) All the Fall records\n",
      "('Mumbai', 'India', 'Fall', 27.6, 346.0)\n",
      "('London', 'United Kingdom', 'Fall', 10.4, 218.5)\n",
      "('Cairo', 'Egypt', 'Fall', 22.2, 4.5)\n",
      "\n",
      " The city, country, and season for which the average rainfall is between 200 and 400 millimeters:\n",
      "('Mumbai', 'India', 'Fall')\n",
      "('London', 'United Kingdom', 'Winter')\n",
      "('London', 'United Kingdom', 'Fall')\n",
      "\n",
      "f) The city and country for which the average Fall temperature is above 20 degrees, in increasing temperature order\n",
      "('Cairo', 'Egypt')\n",
      "('Mumbai', 'India')\n",
      "\n",
      "g) The total annual rainfall for Cairo.\n",
      "None\n",
      "\n",
      "h) The total rainfall for each season.:\n",
      "('Fall', 569.0)\n",
      "('Spring', 192.29999999999998)\n",
      "('Summer', 1706.5)\n",
      "('Winter', 230.1)\n"
     ]
    }
   ],
   "source": [
    "#a)\n",
    "curs.execute(\"SELECT * FROM temp_details\")\n",
    "result_a = curs.fetchall()\n",
    "print(\"a) All the temperature data.\")\n",
    "for row in result_a:\n",
    "    print(row)\n",
    "\n",
    "#b) \n",
    "curs.execute(\"SELECT DISTINCT City FROM temp_details\")\n",
    "result_b = curs.fetchall()\n",
    "print(\"\\nb) All the cities, but without repetition.\")\n",
    "for row in result_b:\n",
    "    print(row[0])\n",
    "\n",
    "# c) \n",
    "curs.execute(\"SELECT * FROM temp_details WHERE Country = 'India'\")\n",
    "result_c = curs.fetchall()\n",
    "print(\"\\nc) All the records for India.\")\n",
    "for row in result_c:\n",
    "    print(row)\n",
    "\n",
    "# d)\n",
    "curs.execute(\"SELECT * FROM temp_details WHERE Season = 'Fall'\")\n",
    "result_d = curs.fetchall()\n",
    "print(\"\\nd) All the Fall records\")\n",
    "for row in result_d:\n",
    "    print(row)\n",
    "\n",
    "# e)  \n",
    "curs.execute(\"SELECT City, Country, Season FROM temp_details WHERE Rainfall BETWEEN 200 AND 400\")\n",
    "result_e = curs.fetchall()\n",
    "print(\"\\n The city, country, and season for which the average rainfall is between 200 and 400 millimeters:\")\n",
    "for row in result_e:\n",
    "    print(row)\n",
    "\n",
    "# f) \n",
    "curs.execute(\"SELECT City, Country FROM temp_details WHERE Season = 'Fall' AND Temperature > 20 ORDER BY Temperature\")\n",
    "result_f = curs.fetchall()\n",
    "print(\"\\nf) The city and country for which the average Fall temperature is above 20 degrees, in increasing temperature order\")\n",
    "for row in result_f:\n",
    "    print(row)\n",
    "\n",
    "# g) \n",
    "curs.execute(\"SELECT SUM(Rainfall) FROM temp_details WHERE Country = 'Cairo'\")\n",
    "result_g = curs.fetchone()[0]\n",
    "print(\"\\ng) The total annual rainfall for Cairo.\")\n",
    "print(result_g)\n",
    "\n",
    "# h) \n",
    "curs.execute(\"SELECT Season, SUM(Rainfall) FROM temp_details GROUP BY Season\")\n",
    "result_h = curs.fetchall()\n",
    "print(\"\\nh) The total rainfall for each season.:\")\n",
    "for row in result_h:\n",
    "    print(row)\n",
    "\n",
    "# Close the connection\n",
    "conn.close()"
   ]
  },
  {
   "cell_type": "markdown",
   "id": "4eedaf56",
   "metadata": {},
   "source": [
    "## Question 9"
   ]
  },
  {
   "cell_type": "code",
   "execution_count": 69,
   "id": "1e76fc55",
   "metadata": {},
   "outputs": [
    {
     "name": "stdout",
     "output_type": "stream",
     "text": [
      "A) ['THE', 'QUICK', 'BROWN', 'FOX', 'JUMPS', 'OVER', 'THE', 'LAZY', 'DOG']\n",
      "B) ['the', 'quick', 'brown', 'fox', 'jumps', 'over', 'the', 'lazy', 'dog']\n",
      "C) [3, 5, 5, 3, 5, 4, 3, 4, 3]\n",
      "D) [['THE', 'the', 3], ['QUICK', 'quick', 5], ['BROWN', 'brown', 5], ['FOX', 'fox', 3], ['JUMPS', 'jumps', 5], ['OVER', 'over', 4], ['THE', 'the', 3], ['LAZY', 'lazy', 4], ['DOG', 'dog', 3]]\n",
      "E) ['quick', 'brown', 'jumps', 'over', 'lazy']\n"
     ]
    }
   ],
   "source": [
    "words = ['The','quick','brown','fox','jumps','over','the','lazy','dog']\n",
    "upper = []\n",
    "lower = []\n",
    "list_of_length = []\n",
    "three_lists = []\n",
    "longer_char=[]\n",
    "\n",
    "for word in words:\n",
    "    upper.append(word.upper())\n",
    "print(\"A)\", upper)\n",
    "\n",
    "for word in words:\n",
    "    lower.append(word.lower())\n",
    "print(\"B)\", lower)\n",
    "\n",
    "for word in words:\n",
    "    count_word = len(word)\n",
    "    list_of_length.append(count_word)\n",
    "print(\"C)\" ,list_of_length)\n",
    "\n",
    "for word in words:\n",
    "    uppercase = word.upper()\n",
    "    lowercase = word.lower()\n",
    "    count = len(word)\n",
    "    three_lists.append([uppercase,lowercase,count])\n",
    "print(\"D)\", three_lists)\n",
    "    \n",
    "for word in words:\n",
    "    if len(word)>=4:\n",
    "        longer_char.append(word)\n",
    "print(\"E)\" ,longer_char)\n",
    "        "
   ]
  }
 ],
 "metadata": {
  "kernelspec": {
   "display_name": "Python 3 (ipykernel)",
   "language": "python",
   "name": "python3"
  },
  "language_info": {
   "codemirror_mode": {
    "name": "ipython",
    "version": 3
   },
   "file_extension": ".py",
   "mimetype": "text/x-python",
   "name": "python",
   "nbconvert_exporter": "python",
   "pygments_lexer": "ipython3",
   "version": "3.9.13"
  }
 },
 "nbformat": 4,
 "nbformat_minor": 5
}
